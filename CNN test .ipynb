{
 "cells": [
  {
   "cell_type": "code",
   "execution_count": 2,
   "id": "8365f7d2-dae7-496a-ab28-54039e1fa11e",
   "metadata": {},
   "outputs": [],
   "source": [
    "import tensorflow as tf\n",
    "from tensorflow.keras import datasets, layers, models\n",
    "import matplotlib.pyplot as plt\n",
    "import numpy as np"
   ]
  },
  {
   "cell_type": "code",
   "execution_count": null,
   "id": "ab50a83a-61d7-4a2c-8bb3-fd3000e1c5bf",
   "metadata": {},
   "outputs": [],
   "source": [
    "(X_train, y_train), (X_test,y_test) = datasets.cifar10.load_data()\n",
    "X_train.shape"
   ]
  },
  {
   "cell_type": "code",
   "execution_count": null,
   "id": "8d32e756-aa4a-4d6d-b45e-d5d41b9add54",
   "metadata": {},
   "outputs": [],
   "source": [
    "X_test.shape"
   ]
  },
  {
   "cell_type": "code",
   "execution_count": null,
   "id": "6921ef71-43e3-4075-ab8c-24624477681e",
   "metadata": {},
   "outputs": [],
   "source": [
    "y_train.shape"
   ]
  },
  {
   "cell_type": "code",
   "execution_count": null,
   "id": "582430a2-8f1d-4a2f-b3f9-15022f1c53f7",
   "metadata": {},
   "outputs": [],
   "source": [
    "y_train[:5]"
   ]
  },
  {
   "cell_type": "code",
   "execution_count": null,
   "id": "50e15551-3b19-43a5-b0f7-816b493a27fd",
   "metadata": {},
   "outputs": [],
   "source": [
    "#y_train is a 2D array, for classification having 1D array is easier so conversion\n",
    "\n",
    "y_train = y_train.reshape(-1,)\n",
    "y_train[:5]"
   ]
  },
  {
   "cell_type": "code",
   "execution_count": null,
   "id": "9e8eb6bd-f225-4c74-9868-f4e3f33a6418",
   "metadata": {},
   "outputs": [],
   "source": [
    "# on normalise la data pour entre 0 et 1 \n",
    "\n",
    "X_train = X_train / 255.0\n",
    "X_test = X_test / 255.0"
   ]
  },
  {
   "cell_type": "markdown",
   "id": "821d894d-8b75-4cd5-be9b-5c3d664b3d7e",
   "metadata": {},
   "source": [
    "## CNN"
   ]
  },
  {
   "cell_type": "code",
   "execution_count": null,
   "id": "41319179-9757-4ee9-a552-f4964a8fd13d",
   "metadata": {},
   "outputs": [],
   "source": [
    "cnn = models.Sequential([\n",
    "    layers.Conv2D(filters=32, kernel_size=(3, 3), activation='relu', input_shape=(32, 32, 3)),\n",
    "    layers.MaxPooling2D((2, 2)),\n",
    "\n",
    "    #filters = nb de conv matrice\n",
    "    #kernel size = taille matrice\n",
    "    # input shape = taille de l'image ici 32x32 pixel x3 car bleu rouge vert (image)\n",
    "\n",
    "    # pour maxpooling il suffit de rentrer la taile que l'on souhaite\n",
    "    \n",
    "    layers.Conv2D(filters=64, kernel_size=(3, 3), activation='relu'),\n",
    "    layers.MaxPooling2D((2, 2)),\n",
    "\n",
    "    layers.Flatten(),\n",
    "    #on a applatit donc on revient à un ANN nromal\n",
    "    # soft max permet de normaliser notre proba (avant somme pas forcement égale à 1 avec soft max oui)\n",
    "    layers.Dense(64, activation='relu'),\n",
    "    layers.Dense(10, activation='softmax')\n",
    "])"
   ]
  },
  {
   "cell_type": "code",
   "execution_count": null,
   "id": "f3c16dfe-787a-4779-a8ba-cc7b81eeb850",
   "metadata": {},
   "outputs": [],
   "source": [
    "cnn.compile(optimizer='adam',\n",
    "              loss='sparse_categorical_crossentropy',\n",
    "              metrics=['accuracy'])"
   ]
  },
  {
   "cell_type": "code",
   "execution_count": null,
   "id": "b5653030-ad1a-46eb-a7be-bf7c8d28f432",
   "metadata": {},
   "outputs": [],
   "source": [
    "cnn.fit(X_train, y_train, epochs=10)\n",
    "\n",
    "# epochs = nombre d'itérations "
   ]
  },
  {
   "cell_type": "code",
   "execution_count": null,
   "id": "150aa5de-53ce-4cc6-b3c8-8fcebb859ed0",
   "metadata": {},
   "outputs": [],
   "source": [
    "# evidement on évalue avec les valeurs test\n",
    "\n",
    "cnn.evaluate(X_test,y_test)"
   ]
  },
  {
   "cell_type": "code",
   "execution_count": null,
   "id": "910d3e87-6239-424c-a258-f259bbc7834a",
   "metadata": {},
   "outputs": [],
   "source": []
  },
  {
   "cell_type": "code",
   "execution_count": null,
   "id": "c9d0ac1e-52dc-4631-a6a8-6f695d9a5b45",
   "metadata": {},
   "outputs": [],
   "source": []
  }
 ],
 "metadata": {
  "kernelspec": {
   "display_name": "Python 3 (ipykernel)",
   "language": "python",
   "name": "python3"
  },
  "language_info": {
   "codemirror_mode": {
    "name": "ipython",
    "version": 3
   },
   "file_extension": ".py",
   "mimetype": "text/x-python",
   "name": "python",
   "nbconvert_exporter": "python",
   "pygments_lexer": "ipython3",
   "version": "3.12.2"
  }
 },
 "nbformat": 4,
 "nbformat_minor": 5
}
